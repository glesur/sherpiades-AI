{
 "cells": [
  {
   "cell_type": "markdown",
   "id": "23224d14",
   "metadata": {},
   "source": [
    "![vki_logo](https://www.skywin.be/sites/default/files/logo-membres/vki_logo_blue_rectangular.jpg)\n",
    "### MODULO: A package for Multiscale Proper Orthogonal Decomposition\n",
    "#### Tutorial 2:  DFT, POD, SPODs and mPOD of an impinging gas jet \n",
    "\n",
    "This second tutorial considers a dataset which is dynamically much richer than the previous. This time 3 POD modes cannot the essence of what is happening. This data is the TR-PIV of an impinging gas jet and was extensively analyzed in previous tutorials on MODULO.\n",
    "It was also discussed in the [Mendez et al, 2018](\n",
    "https://www.cambridge.org/core/journals/journal-of-fluid-mechanics/article/abs/multiscale-proper-orthogonal-decomposition-of-complex-fluid-flows/D078BD2873B1C30B6DD9016E30B62DA8 ) and Chapter 8 of the book [Mendez et al, 2022](https://www.cambridge.org/core/books/datadriven-fluid-mechanics/0327A1A43F7C67EE88BB13743FD9DC8D).\n",
    "\n",
    "We refer you to those work for details on the experimental set up and the flow conditions.\n"
   ]
  },
  {
   "cell_type": "code",
   "execution_count": 1,
   "id": "dced7f45",
   "metadata": {
    "execution": {
     "iopub.execute_input": "2024-12-03T16:12:31.335136Z",
     "iopub.status.busy": "2024-12-03T16:12:31.334688Z",
     "iopub.status.idle": "2024-12-03T16:12:31.339855Z",
     "shell.execute_reply": "2024-12-03T16:12:31.339184Z"
    }
   },
   "outputs": [],
   "source": [
    "#### Load packages and prepare plot customization (Optional)"
   ]
  },
  {
   "cell_type": "code",
   "execution_count": 2,
   "id": "c59f1719",
   "metadata": {
    "execution": {
     "iopub.execute_input": "2024-12-03T16:12:31.342646Z",
     "iopub.status.busy": "2024-12-03T16:12:31.342385Z",
     "iopub.status.idle": "2024-12-03T16:13:22.035672Z",
     "shell.execute_reply": "2024-12-03T16:13:22.034720Z"
    }
   },
   "outputs": [],
   "source": [
    "import numpy as np # we use this to manipulate data \n",
    "import matplotlib.pyplot as plt # this is for plotting\n",
    "import os  # this is to create/rename/delete folders\n",
    "from modulo_vki import ModuloVKI # this is to create modulo objects\n",
    "\n",
    "# these are some utility functions \n",
    "from modulo_vki.utils.others import Plot_Field_TEXT_JET, Plot_Field_JET # plotting\n",
    "from modulo_vki.utils.others import Animation_JET # for animations \n",
    "from modulo_vki.utils.read_db import ReadData # to read the data\n",
    "\n",
    "# This is for plot customization\n",
    "fontsize = 16\n",
    "plt.rc('text', usetex=True)      \n",
    "plt.rc('font', family='serif')\n",
    "plt.rcParams['xtick.labelsize'] = fontsize\n",
    "plt.rcParams['ytick.labelsize'] = fontsize\n",
    "plt.rcParams['axes.labelsize'] = fontsize\n",
    "plt.rcParams['legend.fontsize'] = fontsize\n",
    "plt.rcParams['font.size'] = fontsize\n"
   ]
  },
  {
   "cell_type": "code",
   "execution_count": 3,
   "id": "fbf929d2",
   "metadata": {
    "execution": {
     "iopub.execute_input": "2024-12-03T16:13:22.039232Z",
     "iopub.status.busy": "2024-12-03T16:13:22.038937Z",
     "iopub.status.idle": "2024-12-03T16:13:22.041863Z",
     "shell.execute_reply": "2024-12-03T16:13:22.040913Z"
    }
   },
   "outputs": [],
   "source": [
    "#### Download the dataset and store it into a local folder+ prepare folder for results"
   ]
  },
  {
   "cell_type": "code",
   "execution_count": 4,
   "id": "977feda3",
   "metadata": {
    "execution": {
     "iopub.execute_input": "2024-12-03T16:13:22.044504Z",
     "iopub.status.busy": "2024-12-03T16:13:22.044287Z",
     "iopub.status.idle": "2024-12-03T16:13:27.516476Z",
     "shell.execute_reply": "2024-12-03T16:13:27.515655Z"
    }
   },
   "outputs": [
    {
     "name": "stdout",
     "output_type": "stream",
     "text": [
      "Downloading Data for Tutorial 2...\n"
     ]
    },
    {
     "name": "stdout",
     "output_type": "stream",
     "text": [
      "Download Completed! I prepare data Folder\n"
     ]
    },
    {
     "name": "stdout",
     "output_type": "stream",
     "text": [
      "Data set unzipped and ready ! \n"
     ]
    }
   ],
   "source": [
    "    \n",
    "# Folder where we extract the data \n",
    "FOLDER='Tutorial_2_JET_PIV'\n",
    "\n",
    "# First we unzip the file (note that this is the 4th exercise in the old enumeration)\n",
    "import urllib.request\n",
    "print('Downloading Data for Tutorial 2...')\n",
    "url = 'https://osf.io/c28de/download'\n",
    "urllib.request.urlretrieve(url, 'Ex_4_TR_PIV.zip')\n",
    "print('Download Completed! I prepare data Folder')\n",
    "# Unzip the file \n",
    "from zipfile import ZipFile\n",
    "String='Ex_4_TR_PIV.zip'\n",
    "zf = ZipFile(String,'r')\n",
    "zf.extractall(FOLDER+'/')\n",
    "zf.close() \n",
    "os.rename(FOLDER+'/Ex_4_TR_PIV_Jet', FOLDER+'/data') # rename the data flolder to FOLDER\n",
    "os.remove(String) # Delete the zip file with the data \n",
    "print('Data set unzipped and ready ! ')\n",
    "\n"
   ]
  },
  {
   "cell_type": "code",
   "execution_count": null,
   "id": "cb0b3553-1114-497e-ba33-554ed28307f2",
   "metadata": {},
   "outputs": [],
   "source": []
  }
 ],
 "metadata": {
  "kernelspec": {
   "display_name": "Python 3 (ipykernel)",
   "language": "python",
   "name": "python3"
  },
  "language_info": {
   "codemirror_mode": {
    "name": "ipython",
    "version": 3
   },
   "file_extension": ".py",
   "mimetype": "text/x-python",
   "name": "python",
   "nbconvert_exporter": "python",
   "pygments_lexer": "ipython3",
   "version": "3.10.15"
  }
 },
 "nbformat": 4,
 "nbformat_minor": 5
}
