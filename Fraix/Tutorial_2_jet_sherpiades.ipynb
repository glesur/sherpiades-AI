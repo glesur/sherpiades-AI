{
 "cells": [
  {
   "cell_type": "markdown",
   "metadata": {},
   "source": [
    "![vki_logo](https://www.skywin.be/sites/default/files/logo-membres/vki_logo_blue_rectangular.jpg)\n",
    "### MODULO: A package for Multiscale Proper Orthogonal Decomposition\n",
    "#### Tutorial 2:  DFT, POD, SPODs and mPOD of an impinging gas jet \n",
    "\n",
    "This second tutorial considers a dataset which is dynamically much richer than the previous. This time 3 POD modes cannot the essence of what is happening. This data is the TR-PIV of an impinging gas jet and was extensively analyzed in previous tutorials on MODULO.\n",
    "It was also discussed in the [Mendez et al, 2018](\n",
    "https://www.cambridge.org/core/journals/journal-of-fluid-mechanics/article/abs/multiscale-proper-orthogonal-decomposition-of-complex-fluid-flows/D078BD2873B1C30B6DD9016E30B62DA8 ) and Chapter 8 of the book [Mendez et al, 2022](https://www.cambridge.org/core/books/datadriven-fluid-mechanics/0327A1A43F7C67EE88BB13743FD9DC8D).\n",
    "\n",
    "We refer you to those work for details on the experimental set up and the flow conditions.\n"
   ]
  },
  {
   "cell_type": "markdown",
   "metadata": {},
   "source": [
    "#### Load packages and prepare plot customization (Optional)"
   ]
  },
  {
   "cell_type": "code",
   "execution_count": null,
   "metadata": {
    "pycharm": {
     "name": "#%% md\n"
    }
   },
   "outputs": [],
   "source": [
    "import numpy as np # we use this to manipulate data \n",
    "import matplotlib.pyplot as plt # this is for plotting\n",
    "import os  # this is to create/rename/delete folders\n",
    "from modulo_vki import ModuloVKI # this is to create modulo objects\n",
    "\n",
    "# these are some utility functions \n",
    "from modulo_vki.utils.others import Plot_Field_TEXT_JET, Plot_Field_JET # plotting\n",
    "from modulo_vki.utils.others import Animation_JET # for animations \n",
    "from modulo_vki.utils.read_db import ReadData # to read the data\n",
    "\n",
    "# This is for plot customization\n",
    "fontsize = 16\n",
    "plt.rc('text', usetex=True)      \n",
    "plt.rc('font', family='serif')\n",
    "plt.rcParams['xtick.labelsize'] = fontsize\n",
    "plt.rcParams['ytick.labelsize'] = fontsize\n",
    "plt.rcParams['axes.labelsize'] = fontsize\n",
    "plt.rcParams['legend.fontsize'] = fontsize\n",
    "plt.rcParams['font.size'] = fontsize\n",
    "\n",
    "FOLDER='Tutorial_2_JET_PIV'\n"
   ]
  },
  {
   "cell_type": "markdown",
   "metadata": {},
   "source": [
    "#### Download the dataset and store it into a local folder+ prepare folder for results"
   ]
  },
  {
   "cell_type": "markdown",
   "metadata": {},
   "source": [
    "###### Load one snapshot and plot it \n",
    "We use the functions Plot_Field_TEXT_JET to extract all the data concerning the on snapshot. In particular, we us it to extract the grid information. Note that the grid is here saved in each of the dat files, even if this is identical for all of them. This is very inefficient, but that's how the output was produced from our old PIV code. In what follows we generate the time and space grid and plot the velocity field of snapshot 10."
   ]
  },
  {
   "cell_type": "code",
   "execution_count": null,
   "metadata": {},
   "outputs": [],
   "source": [
    "# Construct Time discretization\n",
    "n_t=2000; Fs=2000; dt=1/Fs \n",
    "t=np.linspace(0,dt*(n_t-1),n_t) # prepare the time axis# \n",
    "\n",
    "# Read file number 10 (Check the string construction)\n",
    "SNAP=10\n",
    "Name=FOLDER+os.sep+'data/Res%05d'%SNAP+'.dat' # Check it out: print(Name)\n",
    "n_s, Xg, Yg, Vxg, Vyg, X_S,Y_S=Plot_Field_TEXT_JET(Name); plt.close() \n",
    "# Shape of the grid\n",
    "n_y,n_x=np.shape(Xg)\n",
    "\n",
    "# Plot the vector field\n",
    "fig, ax = plt.subplots(figsize=(5, 3)) # This creates the figure\n",
    "Magn=np.sqrt(Vxg**2+Vyg**2); \n",
    "CL=plt.contourf(Xg,Yg,Magn,levels=np.arange(0,9,1))\n",
    "STEPx=2; STEPy=2; \n",
    "plt.quiver(Xg[::STEPx,::STEPy],Yg[::STEPx,::STEPy],\\\n",
    "           Vxg[::STEPx,::STEPy],Vyg[::STEPx,::STEPy],color='k',scale=100) # Create a quiver (arrows) plot\n",
    "    \n",
    "plt.rc('text', usetex=True)      # This is Miguel's customization\n",
    "plt.rc('font', family='serif')\n",
    "plt.rc('xtick',labelsize=16)\n",
    "plt.rc('ytick',labelsize=16)\n",
    "fig.colorbar(CL,pad=0.05,fraction=0.025)\n",
    "ax.set_aspect('equal') # Set equal aspect ratio\n",
    "ax.set_xlabel('$x[mm]$',fontsize=13)\n",
    "ax.set_ylabel('$y[mm]$',fontsize=13)\n",
    "ax.set_title('Tutorial 2: Impinging Jet',fontsize=16)\n",
    "ax.set_xticks(np.arange(0,40,10))\n",
    "ax.set_yticks(np.arange(10,30,5))\n",
    "ax.set_xlim([0,35])\n",
    "ax.set_ylim(10,29)\n",
    "ax.invert_yaxis() # Invert Axis for plotting purpose\n",
    "plt.tight_layout()\n",
    "Name=FOLDER+os.sep+'Snapshot_JET_'+str(SNAP)+'.png'\n",
    "plt.savefig(Name, dpi=200) \n",
    "plt.show()\n",
    "\n",
    "\n"
   ]
  },
  {
   "cell_type": "markdown",
   "metadata": {},
   "source": [
    "##### Step 1 Load the data and create snapshot matrix D\n"
   ]
  },
  {
   "cell_type": "code",
   "execution_count": null,
   "metadata": {},
   "outputs": [],
   "source": [
    "# --- Component fields (N=2 for 2D velocity fields, N=1 for pressure fields)\n",
    "N = 2 \n",
    "# --- Number of mesh points\n",
    "N_S = 6840\n",
    "# --- Header (H) and footer (F) to be skipped during acquisition\n",
    "H = 1; F = 0\n",
    "# --- Read one sample snapshot (to get N_S)\n",
    "Name = FOLDER+\"/data/Res00001.dat\"\n",
    "Dat = np.genfromtxt(Name, skip_header=H, skip_footer=F)\n",
    "\n",
    "D = ReadData._data_processing(D=None,\n",
    "                              FOLDER_OUT='./',\n",
    "                              FOLDER_IN=FOLDER+'/data/', \n",
    "                              filename='Res%05d', \n",
    "                              h=H,f=F,c=2,\n",
    "                              N=2, N_S=2*Dat.shape[0],N_T=n_t)\n"
   ]
  },
  {
   "cell_type": "markdown",
   "metadata": {},
   "source": [
    "##### Plot one snapshot  and the animation of the velocity field\n",
    "\n",
    "To plot an animation of the velocity field, we use the function Animation_JET. This requires in input the snapshot matrix previously created\n"
   ]
  },
  {
   "cell_type": "code",
   "execution_count": null,
   "metadata": {},
   "outputs": [],
   "source": [
    "Name_GIF=FOLDER+os.sep+'Velocity_Field.gif'\n",
    "Mex=Animation_JET(Name_GIF,D,X_S,Y_S,500,600,1)"
   ]
  },
  {
   "cell_type": "markdown",
   "metadata": {},
   "source": [
    "## Step 2: Perform POD analysis\n",
    "\n",
    "\n",
    "With the POD, we put no constraints on the frequency content of each mode and instead seek to find the optimal basis, i.e., the one able to represent the data with the least amount of modes.\n",
    "We compute the POD with the snapshot method, using scipy's eigsh for the diagonalization. However, we also initialize the modulo object with an svd solver, which we will use for other decompositions in the following. \n",
    "\n",
    "After having studied tutorial 1, the code for the decomposition and the plot that follows should be fairly easy to follow.\n"
   ]
  },
  {
   "cell_type": "code",
   "execution_count": null,
   "metadata": {},
   "outputs": [],
   "source": [
    "# --- Remove the mean from this dataset (stationary flow )!\n",
    "D,D_MEAN=ReadData._data_processing(D,MR=True)\n",
    "# We create a matrix of mean flow (used to sum again for the videos):\n",
    "D_MEAN_mat=np.array([D_MEAN, ] * n_t).transpose()    \n",
    "\n",
    "# --- Initialize MODULO object\n",
    "m = ModuloVKI(data=D)\n",
    "# Compute the DFT\n",
    "Sorted_Freqs, Phi_F, Sorted_Sigmas = m.compute_DFT(Fs)\n",
    "\n",
    "# Shape of the grid\n",
    "nxny=m.D.shape[0]//2; \n"
   ]
  },
  {
   "cell_type": "code",
   "execution_count": null,
   "metadata": {},
   "outputs": [],
   "source": [
    "# The POD provides the best decomposition convergence.\n",
    "# Here is how to perform it:\n",
    "# --- Initialize MODULO object\n",
    "m2 = ModuloVKI(data=m.D,n_Modes=50)\n",
    "# --- Check for D\n",
    "Phi_P, Psi_P, Sigma_P = m2.compute_POD_svd() # POD via svd\n",
    "\n",
    "FOLDER_POD_RESULTS=FOLDER+os.sep+'POD_Results_Jet'\n",
    "if not os.path.exists(FOLDER_POD_RESULTS):\n",
    "    os.mkdir(FOLDER_POD_RESULTS)\n",
    "\n",
    "# Plot the decomposition convergence\n",
    "fig, ax = plt.subplots(figsize=(6, 3)) # This creates the figure\n",
    "plt.plot(Sigma_P/np.max(Sigma_P),'ko:')\n",
    "# ax.set_yscale('log'); ax.set_xscale('log')\n",
    "plt.xlabel('$r$',fontsize=18)\n",
    "plt.ylabel('$\\sigma_{\\mathcal{P}r}/(\\sigma_{\\mathcal{P}1})$',fontsize=18)\n",
    "plt.tight_layout(pad=0.6, w_pad=0.3, h_pad=0.8)\n",
    "Name=FOLDER_POD_RESULTS+os.sep+'POD_R_Impinging_JET3.png'\n",
    "plt.savefig(Name, dpi=200) \n",
    "plt.show()\n",
    "\n",
    "# Plot the leading POD modes and their spectra:\n",
    "plt.ion()\n",
    "# Show modes\n",
    "for j in range(1,10):\n",
    " plt.close(fig='all') \n",
    " fig, ax3= plt.subplots(figsize=(5,6))   \n",
    " ax=plt.subplot(2,1,1)\n",
    " plt.rc('text', usetex=True)    \n",
    " plt.rc('font', family='serif')\n",
    " plt.rc('xtick',labelsize=12)\n",
    " plt.rc('ytick',labelsize=12)\n",
    " V_X=Phi_P[0:nxny,j-1]\n",
    " V_Y=Phi_P[nxny::,j-1]\n",
    " Plot_Field_JET(X_S,Y_S,V_X,V_Y,True,2,1)\n",
    " #plt.quiver(X_S,Y_S,V_X,V_Y)\n",
    " ax.set_aspect('equal') # Set equal aspect ratio\n",
    " ax.set_xticks(np.arange(0,40,10))\n",
    " ax.set_yticks(np.arange(10,30,5))\n",
    " ax.set_xlim([0,35])\n",
    " ax.set_ylim([10,29])\n",
    " ax.set_xlabel('$x[mm]$',fontsize=13)\n",
    " ax.set_ylabel('$y[mm]$',fontsize=13)\n",
    " ax.invert_yaxis() # Invert Axis for plotting purpose\n",
    " String_y='$\\phi_{\\mathcal{S}'+str(j)+'}$'\n",
    " plt.title(String_y,fontsize=18)\n",
    " plt.tight_layout(pad=1, w_pad=0.5, h_pad=1.0)\n",
    " \n",
    " ax=plt.subplot(2,1,2)\n",
    " Signal=Psi_P[:,j-1]\n",
    " s_h=np.abs((np.fft.fft(Signal-Signal.mean())))\n",
    " Freqs=np.fft.fftfreq(int(n_t))*Fs\n",
    " plt.plot(Freqs*(4/1000)/6.5,s_h,'-',linewidth=1.5)\n",
    " plt.xlim(0,0.38)    \n",
    " plt.xlabel('$St[-]$',fontsize=18)\n",
    " String_y='$\\widehat{\\psi}_{\\mathcal{S}'+str(j)+'}$'\n",
    " plt.ylabel(String_y,fontsize=18)\n",
    " plt.tight_layout(pad=1, w_pad=0.5, h_pad=1.0)\n",
    " Name=FOLDER_POD_RESULTS+os.sep+'POD_s_Mode50_'+str(j)+'.png'\n",
    " print(Name+' Saved')\n",
    " plt.savefig(Name, dpi=300) \n"
   ]
  },
  {
   "cell_type": "markdown",
   "metadata": {},
   "source": [
    "Study the results in the folder. The convergence is much stronger than in the DFT. However the modes have a broad range of frequencies. This is the spectral mixing described in [Mendez et al, 2018](\n",
    "https://www.cambridge.org/core/journals/journal-of-fluid-mechanics/article/abs/multiscale-proper-orthogonal-decomposition-of-complex-fluid-flows/D078BD2873B1C30B6DD9016E30B62DA8 ) and Chapter 8 of the book [Mendez et al, 2022](https://www.cambridge.org/core/books/datadriven-fluid-mechanics/0327A1A43F7C67EE88BB13743FD9DC8D). Here we plot an animation of the flow field using the leading 50 POD modes. You should compare this with the one of the full dataset "
   ]
  },
  {
   "cell_type": "code",
   "execution_count": null,
   "metadata": {},
   "outputs": [],
   "source": [
    "# Here is the approximation with the leading 50 POD modes\n",
    "D_P=np.real(np.linalg.multi_dot([Phi_P,np.diag(Sigma_P),Psi_P.T]) )\n",
    "Error=np.linalg.norm(m.D-D_P)/np.linalg.norm(m.D)\n",
    "\n",
    "print('Convergence Error: E_C='+\"{:.2f}\".format(Error*100)+' %')\n",
    "\n",
    "Name_GIF=FOLDER_POD_RESULTS+os.sep+'POD_Approximation_R50.gif'\n",
    "plt.ioff()\n",
    "Mex=Animation_JET(Name_GIF,D_P+D_MEAN_mat,X_S,Y_S,500,600,1)\n"
   ]
  },
  {
   "cell_type": "code",
   "execution_count": null,
   "metadata": {
    "scrolled": true
   },
   "outputs": [],
   "source": [
    "#%% Plot the trajectory\n",
    "\n",
    "fig = plt.figure(figsize=(10,7))\n",
    "ax = fig.add_subplot(111, projection='3d')\n",
    "\n",
    "#ax.dist = 22\n",
    "ax.scatter(Psi_P[1:13000:1, 0],\n",
    "           Psi_P[1:13000:1, 1],\n",
    "           Psi_P[1:13000:1, 2])\n",
    "\n",
    "\n",
    "plt.rc('text', usetex=True)      \n",
    "plt.rc('font', family='serif')\n",
    "plt.rc('xtick',labelsize=12)\n",
    "plt.rc('ytick',labelsize=12)\n",
    "\n",
    "\n",
    "ax.set_xlabel('$\\psi_{\\mathcal{P}1}$',fontsize=16)\n",
    "ax.set_ylabel('$\\psi_{\\mathcal{P}2}$',fontsize=16)\n",
    "ax.set_zlabel('$\\psi_{\\mathcal{P}3}$',fontsize=16)\n",
    "plt.tight_layout()\n",
    "Name='3D_POD_ImpJet_POD50.pdf'\n",
    "plt.savefig(Name, dpi=300) \n",
    "plt.show()"
   ]
  },
  {
   "cell_type": "markdown",
   "metadata": {},
   "source": [
    "The extreme convergence comes at the prices of spectral mixing. \n",
    "Modes are characterized by a large range of frequencies and thus their spatial structures cannot be associated to specific ranges of frequencies.\n"
   ]
  },
  {
   "cell_type": "markdown",
   "metadata": {},
   "source": [
    "This is an hybrid between DFT and POD. We filter the correlation matrix\n",
    "to make it more circulant. At the limit of perfectly circulant matrix,\n",
    "the POD is a DFT.The filtering is carried out along diagonals.\n"
   ]
  },
  {
   "cell_type": "code",
   "execution_count": null,
   "metadata": {},
   "outputs": [],
   "source": [
    "FOLDER_SPOD_RESULTS=FOLDER+os.sep+'SPOD_s_Results_Jet'\n",
    "if not os.path.exists(FOLDER_SPOD_RESULTS):\n",
    "    os.mkdir(FOLDER_SPOD_RESULTS)\n",
    "\n",
    "\n",
    "# Initialize a 'MODULO Object'\n",
    "m = ModuloVKI(data=m.D)\n",
    "# Prepare (partition) the dataset\n",
    "# Compute the POD\n",
    "Phi_S, Psi_S, Sigma_S = m.compute_SPOD_s(Fs,N_O=100,\n",
    "                                               f_c=0.01,\n",
    "                                               n_Modes=25,\n",
    "                                               SAVE_SPOD=True)\n",
    " \n",
    "# The rest of the plotting is IDENTICAL to the POD part\n",
    "\n",
    "fig, ax = plt.subplots(figsize=(6, 3)) # This creates the figure\n",
    "plt.plot(Sigma_S/np.max(Sigma_S),'ko:')\n",
    "# ax.set_yscale('log'); ax.set_xscale('log')\n",
    "plt.xlabel('$r$',fontsize=18)\n",
    "plt.ylabel('$\\sigma_{\\mathcal{S}r}/(\\sigma_{\\mathcal{S}1})$',fontsize=18)\n",
    "plt.tight_layout(pad=0.6, w_pad=0.3, h_pad=0.8)\n",
    "Name=FOLDER_SPOD_RESULTS+os.sep+'SPOD_R_Impinging_JET.png'\n",
    "plt.savefig(Name, dpi=200) \n",
    "plt.show()\n",
    "\n",
    "# Plot the leading SPOD modes and their spectra:\n",
    "    \n",
    "# Show modes\n",
    "for j in range(1,10):\n",
    " plt.close(fig='all') \n",
    " fig, ax3= plt.subplots(figsize=(5,6))   \n",
    " ax=plt.subplot(2,1,1)\n",
    " plt.rc('text', usetex=True)    \n",
    " plt.rc('font', family='serif')\n",
    " plt.rc('xtick',labelsize=12)\n",
    " plt.rc('ytick',labelsize=12)\n",
    " V_X=Phi_S[0:nxny,j-1]\n",
    " V_Y=Phi_S[nxny::,j-1]\n",
    " Plot_Field_JET(X_S,Y_S,V_X,V_Y,True,2,1)\n",
    " #plt.quiver(X_S,Y_S,V_X,V_Y)\n",
    " ax.set_aspect('equal') # Set equal aspect ratio\n",
    " ax.set_xticks(np.arange(0,40,10))\n",
    " ax.set_yticks(np.arange(10,30,5))\n",
    " ax.set_xlim([0,35])\n",
    " ax.set_ylim([10,29])\n",
    " ax.set_xlabel('$x[mm]$',fontsize=13)\n",
    " ax.set_ylabel('$y[mm]$',fontsize=13)\n",
    " ax.invert_yaxis() # Invert Axis for plotting purpose\n",
    " String_y='$\\phi_{\\mathcal{S}'+str(j)+'}$'\n",
    " plt.title(String_y,fontsize=18)\n",
    " plt.tight_layout(pad=1, w_pad=0.5, h_pad=1.0)\n",
    " \n",
    " ax=plt.subplot(2,1,2)\n",
    " Signal=Psi_S[:,j-1]\n",
    " s_h=np.abs((np.fft.fft(Signal-Signal.mean())))\n",
    " Freqs=np.fft.fftfreq(int(n_t))*Fs\n",
    " plt.plot(Freqs*(4/1000)/6.5,s_h,'-',linewidth=1.5)\n",
    " plt.xlim(0,0.38)    \n",
    " plt.xlabel('$St[-]$',fontsize=18)\n",
    " String_y='$\\widehat{\\psi}_{\\mathcal{S}'+str(j)+'}$'\n",
    " plt.ylabel(String_y,fontsize=18)\n",
    " plt.tight_layout(pad=1, w_pad=0.5, h_pad=1.0)\n",
    " Name=FOLDER_SPOD_RESULTS+os.sep+'SPOD_s_Mode_'+str(j)+'.png'\n",
    " print(Name+' Saved')\n",
    " plt.savefig(Name, dpi=300) \n"
   ]
  },
  {
   "cell_type": "markdown",
   "metadata": {},
   "source": [
    "### SPOD_s Conclusions \n",
    "\n",
    "We can re-build the data more easily. We have significantly reduced the spectral bandwidth of the modes, at the cost of a minor loss in the convergence (can you appreciate that ?). On the other hand we do not have full control on the frequency content of each mode.\n"
   ]
  },
  {
   "cell_type": "markdown",
   "metadata": {},
   "source": [
    "## Step 5: Perform mPOD analysis"
   ]
  },
  {
   "cell_type": "markdown",
   "metadata": {},
   "source": [
    "Here we go for the mPOD by [Mendez et al 2019](https://www.cambridge.org/core/journals/journal-of-fluid-mechanics/article/abs/multiscale-proper-orthogonal-decomposition-of-complex-fluid-flows/D078BD2873B1C30B6DD9016E30B62DA8). Like Sirovinch's SPOD this decomposition modifies the standard POD by acting on the matrix K . However, the mPOD does not just filter it: it decomposes into chunks containing certain portions of the spectra and diagonalizes each of these independently. The resulting modes are optimal within the user-provided frequency repartition."
   ]
  },
  {
   "cell_type": "code",
   "execution_count": null,
   "metadata": {},
   "outputs": [],
   "source": [
    "FOLDER_MPOD_RESULTS=FOLDER+os.sep+'mPOD_Results_Jet'\n",
    "if not os.path.exists(FOLDER_MPOD_RESULTS):\n",
    "    os.mkdir(FOLDER_MPOD_RESULTS)\n",
    "\n",
    "# We here perform the mPOD as done in the previous tutorials.\n",
    "# This is mostly a copy paste from those, but we include it for completenetss\n",
    "Keep = np.array([1, 1, 1, 1])\n",
    "Nf = np.array([201, 201, 201, 201])\n",
    "# --- Test Case Data:\n",
    "# + Stand off distance nozzle to plate\n",
    "H = 4 / 1000  \n",
    "# + Mean velocity of the jet at the outlet\n",
    "U0 = 6.5  \n",
    "# + Input frequency splitting vector in dimensionless form (Strohual Number)\n",
    "ST_V = np.array([0.1, 0.2, 0.25, 0.4])  \n",
    "# + Frequency Splitting Vector in Hz\n",
    "F_V = ST_V * U0 / H\n",
    "# + Size of the extension for the BC (Check Docs)\n",
    "Ex = 203  # This must be at least as Nf.\n",
    "dt = 1/2000; boundaries = 'reflective'; MODE = 'reduced'\n",
    "# Here 's the mPOD\n",
    "Phi_M, Psi_M, Sigmas_M = m.compute_mPOD(Nf, Ex, F_V, Keep, 20 ,boundaries, MODE, dt, False)\n",
    "\n",
    "\n",
    "# The rest of the plotting is IDENTICAL to the POD part\n",
    "fig, ax = plt.subplots(figsize=(6, 3)) # This creates the figure\n",
    "plt.plot(Sigmas_M/np.max(Sigmas_M),'ko:')\n",
    "# ax.set_yscale('log'); ax.set_xscale('log')\n",
    "plt.xlabel('$r$',fontsize=18)\n",
    "plt.ylabel('$\\sigma_{\\mathcal{M}r}/(\\sigma_{\\mathcal{M}1})$',fontsize=18)\n",
    "plt.tight_layout(pad=0.6, w_pad=0.3, h_pad=0.8)\n",
    "Name=FOLDER_MPOD_RESULTS+os.sep+'mPOD_R_Impinging_JET.png'\n",
    "plt.savefig(Name, dpi=200) \n",
    "plt.show()\n",
    "\n",
    "# Plot the leading mPOD modes and their spectra:\n",
    "    \n",
    "# Show modes\n",
    "for j in range(1,5):\n",
    " plt.close(fig='all') \n",
    " fig, ax3= plt.subplots(figsize=(5,6))   \n",
    " ax=plt.subplot(2,1,1)\n",
    " plt.rc('text', usetex=True)    \n",
    " plt.rc('font', family='serif')\n",
    " plt.rc('xtick',labelsize=12)\n",
    " plt.rc('ytick',labelsize=12)\n",
    " V_X=Phi_M[0:nxny,j-1]\n",
    " V_Y=Phi_M[nxny::,j-1]\n",
    " Plot_Field_JET(X_S,Y_S,V_X,V_Y,True,2,1)\n",
    " #plt.quiver(X_S,Y_S,V_X,V_Y)\n",
    " ax.set_aspect('equal') # Set equal aspect ratio\n",
    " ax.set_xticks(np.arange(0,40,10))\n",
    " ax.set_yticks(np.arange(10,30,5))\n",
    " ax.set_xlim([0,35])\n",
    " ax.set_ylim([10,29])\n",
    " ax.set_xlabel('$x[mm]$',fontsize=13)\n",
    " ax.set_ylabel('$y[mm]$',fontsize=13)\n",
    " ax.invert_yaxis() # Invert Axis for plotting purpose\n",
    " String_y='$\\phi_{\\mathcal{M}'+str(j)+'}$'\n",
    " plt.title(String_y,fontsize=18)\n",
    " plt.tight_layout(pad=1, w_pad=0.5, h_pad=1.0)\n",
    " \n",
    " ax=plt.subplot(2,1,2)\n",
    " Signal=Psi_M[:,j-1]\n",
    " s_h=np.abs((np.fft.fft(Signal-Signal.mean())))\n",
    " Freqs=np.fft.fftfreq(int(n_t))*Fs\n",
    " plt.plot(Freqs*(4/1000)/6.5,s_h,'-',linewidth=1.5)\n",
    " plt.xlim(0,0.38)    \n",
    " plt.xlabel('$St[-]$',fontsize=18)\n",
    " String_y='$\\widehat{\\psi}_{\\mathcal{M}'+str(j)+'}$'\n",
    " plt.ylabel(String_y,fontsize=18)\n",
    " plt.tight_layout(pad=1, w_pad=0.5, h_pad=1.0)\n",
    " Name=FOLDER_MPOD_RESULTS+os.sep+'mPOD_s_Mode_'+str(j)+'.png'\n",
    " print(Name+' Saved')\n",
    " plt.savefig(Name, dpi=300) \n",
    "\n"
   ]
  },
  {
   "cell_type": "markdown",
   "metadata": {},
   "source": [
    "### mPOD Conclusions \n",
    "The convergence is still great and we have clear spectral separation between the modes ( check these!)\n"
   ]
  },
  {
   "cell_type": "code",
   "execution_count": null,
   "metadata": {},
   "outputs": [],
   "source": [
    "# Here is the approximation with the leading 10 mPOD modes\n",
    "D_P=np.real(np.linalg.multi_dot([Phi_M,np.diag(Sigmas_M),Psi_M.T]) )\n",
    "Error=np.linalg.norm(m.D-D_P)/np.linalg.norm(m.D)\n",
    "\n",
    "print('Convergence Error: E_C='+\"{:.2f}\".format(Error*100)+' %')\n",
    "\n",
    "Name_GIF=FOLDER_MPOD_RESULTS+os.sep+'mPOD_Approximation.gif'\n",
    "Mex=Animation_JET(Name_GIF,D_P+D_MEAN_mat,X_S,Y_S,500,600,1)\n"
   ]
  },
  {
   "cell_type": "code",
   "execution_count": null,
   "metadata": {},
   "outputs": [],
   "source": [
    "#%% Plot the trajectory\n",
    "\n",
    "fig = plt.figure(figsize=(10,7))\n",
    "ax = fig.add_subplot(111, projection='3d')\n",
    "\n",
    "#ax.dist = 22\n",
    "ax.scatter(Psi_M[1:13000:1, 0],\n",
    "           Psi_M[1:13000:1, 1],\n",
    "           Psi_M[1:13000:1, 2])\n",
    "\n",
    "\n",
    "plt.rc('text', usetex=True)      \n",
    "plt.rc('font', family='serif')\n",
    "plt.rc('xtick',labelsize=12)\n",
    "plt.rc('ytick',labelsize=12)\n",
    "\n",
    "\n",
    "ax.set_xlabel('$\\psi_{\\mathcal{P}1}$',fontsize=16)\n",
    "ax.set_ylabel('$\\psi_{\\mathcal{P}2}$',fontsize=16)\n",
    "ax.set_zlabel('$\\psi_{\\mathcal{P}3}$',fontsize=16)\n",
    "plt.tight_layout()\n",
    "Name=FOLDER_MPOD_RESULTS+os.sep+'3D_POD_ImpJet_mPOD.pdf'\n",
    "plt.savefig(Name, dpi=300) \n",
    "plt.show()"
   ]
  },
  {
   "cell_type": "code",
   "execution_count": null,
   "metadata": {},
   "outputs": [],
   "source": []
  }
 ],
 "metadata": {
  "kernelspec": {
   "display_name": "Python 3 (ipykernel)",
   "language": "python",
   "name": "python3"
  },
  "language_info": {
   "codemirror_mode": {
    "name": "ipython",
    "version": 3
   },
   "file_extension": ".py",
   "mimetype": "text/x-python",
   "name": "python",
   "nbconvert_exporter": "python",
   "pygments_lexer": "ipython3",
   "version": "3.8.19"
  }
 },
 "nbformat": 4,
 "nbformat_minor": 4
}
